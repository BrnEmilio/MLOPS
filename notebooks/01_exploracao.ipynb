{
 "cells": [
  {
   "cell_type": "markdown",
   "id": "fb547ce3",
   "metadata": {},
   "source": [
    "# Aula 1: Exploração e Limpeza de Dados\n",
    "\n",
    "Nesta aula vamos explorar o dataset, analisar e preparar para a próxima etapa."
   ]
  },
  {
   "cell_type": "code",
   "execution_count": null,
   "id": "01f3c654",
   "metadata": {},
   "outputs": [],
   "source": [
    "import pandas as pd\n",
    "import os\n",
    "import matplotlib.pyplot as plt\n",
    "import seaborn as sns\n",
    "import warnings\n",
    "warnings.filterwarnings(\"ignore\")\n"
   ]
  },
  {
   "cell_type": "code",
   "execution_count": null,
   "id": "78d8f24f",
   "metadata": {},
   "outputs": [],
   "source": [
    "# Passo 1: Carregue o dataset\n",
    "caminho = \"../data/tweets.csv\"\n",
    "if not os.path.exists(caminho):\n",
    "    raise FileNotFoundError(f\"Arquivo não encontrado: {caminho}\")\n",
    "\n",
    "df = pd.read_csv(caminho)\n",
    "display(df.head())\n"
   ]
  },
  {
   "cell_type": "code",
   "execution_count": null,
   "id": "91d2995a",
   "metadata": {},
   "outputs": [],
   "source": [
    "# Passo 2: Verifique informações básicas\n",
    "print(df.info())\n",
    "print(df.isnull().sum())\n",
    "\n",
    "if \"label\" not in df.columns or \"text\" not in df.columns:\n",
    "    raise ValueError(\"Colunas 'label' e 'text' devem estar presentes no dataset\")\n"
   ]
  },
  {
   "cell_type": "code",
   "execution_count": null,
   "id": "e5454d74",
   "metadata": {},
   "outputs": [],
   "source": [
    "# Passo 3: Análise exploratória\n",
    "print(df[\"label\"].value_counts())\n",
    "df[\"text_length\"] = df[\"text\"].astype(str).apply(len)\n",
    "print(df[[\"label\", \"text_length\"]].groupby(\"label\").mean())\n",
    "\n",
    "plt.figure(figsize=(10,6))\n",
    "sns.histplot(data=df, x=\"text_length\", hue=\"label\", bins=20, kde=True)\n",
    "plt.title(\"Distribuição do tamanho dos textos por rótulo\")\n",
    "plt.xlabel(\"Tamanho do texto\")\n",
    "plt.ylabel(\"Contagem\")\n",
    "plt.tight_layout()\n",
    "plt.show()\n"
   ]
  },
  {
   "cell_type": "code",
   "execution_count": null,
   "id": "b6033a60",
   "metadata": {},
   "outputs": [],
   "source": [
    "# Passo 4: Salve o dataset limpo\n",
    "df.to_csv(\"../data/tweets_limpo.csv\", index=False)\n",
    "print(\"Arquivo salvo em ../data/tweets_limpo.csv\")\n"
   ]
  }
 ],
 "metadata": {},
 "nbformat": 4,
 "nbformat_minor": 5
}
