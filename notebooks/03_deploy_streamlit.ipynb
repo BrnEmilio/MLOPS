{
 "cells": [
  {
   "cell_type": "markdown",
   "id": "9674e8bd",
   "metadata": {},
   "source": [
    "# Aula 3: Deploy Interativo\n",
    "\n",
    "Teste seu modelo em uma interface gráfica com Streamlit."
   ]
  },
  {
   "cell_type": "code",
   "execution_count": null,
   "id": "7938bc2c",
   "metadata": {},
   "outputs": [],
   "source": [
    "import streamlit as st\n",
    "import joblib\n",
    "import os\n",
    "\n",
    "st.set_page_config(page_title=\"Demo Sentimento\", layout=\"centered\")\n",
    "st.header(\"Classificação de Sentimentos em Tweets\")\n",
    "\n",
    "input_text = st.text_area(\"Digite um tweet para análise\", height=150)\n",
    "\n",
    "modelo_path = \"../model.joblib\"\n",
    "vetor_path = \"../vectorizer.joblib\"\n",
    "\n",
    "if os.path.exists(modelo_path) and os.path.exists(vetor_path):\n",
    "    model = joblib.load(modelo_path)\n",
    "    vectorizer = joblib.load(vetor_path)\n",
    "\n",
    "    if st.button(\"Classificar\"):\n",
    "        if input_text.strip():\n",
    "            texto_vetor = vectorizer.transform([input_text])\n",
    "            pred = model.predict(texto_vetor)[0]\n",
    "            st.success(f\"Sentimento previsto: {pred}\")\n",
    "        else:\n",
    "            st.warning(\"Digite algum texto para classificar.\")\n",
    "else:\n",
    "    st.error(\"Arquivos de modelo ou vetor ausentes. Certifique-se de executar o notebook 02.\")\n"
   ]
  }
 ],
 "metadata": {},
 "nbformat": 4,
 "nbformat_minor": 5
}
